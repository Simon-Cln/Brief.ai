{
 "cells": [
  {
   "cell_type": "code",
   "execution_count": null,
   "metadata": {},
   "outputs": [],
   "source": [
    "#!pip install rouge_score"
   ]
  },
  {
   "cell_type": "code",
   "execution_count": 18,
   "metadata": {},
   "outputs": [],
   "source": [
    "import torch\n",
    "from transformers import AutoTokenizer, AutoModelForSeq2SeqLM, pipeline\n",
    "import matplotlib.pyplot as plt\n",
    "from rouge_score import rouge_scorer\n",
    "import requests"
   ]
  },
  {
   "cell_type": "code",
   "execution_count": null,
   "metadata": {},
   "outputs": [
    {
     "name": "stdout",
     "output_type": "stream",
     "text": [
      "Top modèles récupérés : ['facebook/bart-large-cnn', 'sshleifer/distilbart-cnn-12-6', 'philschmid/bart-large-cnn-samsum', 'google/pegasus-xsum', 'jordiclive/flan-t5-3b-summarizer']\n"
     ]
    }
   ],
   "source": [
    "def get_top_summarization_models(n=5):\n",
    "    \"\"\"\n",
    "    Récupère les 'n' modèles de résumé de texte les plus populaires sur Hugging Face.\n",
    "    \"\"\"\n",
    "    API_URL = \"https://huggingface.co/api/models\"\n",
    "    params = {\n",
    "        \"pipeline_tag\": \"summarization\",\n",
    "        \"sort\": \"downloads\",\n",
    "        \"direction\": -1,\n",
    "        \"limit\": n\n",
    "    }\n",
    "    response = requests.get(API_URL, params=params)\n",
    "    if response.status_code == 200:\n",
    "        models = response.json()\n",
    "        model_names = [model[\"modelId\"] for model in models]\n",
    "        return model_names\n",
    "    else:\n",
    "        print(f\"Erreur lors de la récupération des modèles : {response.status_code}\")\n",
    "        return []\n",
    "\n",
    "model_names = get_top_summarization_models(5)\n",
    "print(\"Top modèles récupérés :\", model_names)"
   ]
  },
  {
   "cell_type": "code",
   "execution_count": 20,
   "metadata": {},
   "outputs": [
    {
     "name": "stdout",
     "output_type": "stream",
     "text": [
      "Modèle 'facebook/bart-large-cnn' chargé avec succès.\n"
     ]
    },
    {
     "data": {
      "application/vnd.jupyter.widget-view+json": {
       "model_id": "974d6757bd4a4945a1e62149598d1b4d",
       "version_major": 2,
       "version_minor": 0
      },
      "text/plain": [
       "tokenizer_config.json:   0%|          | 0.00/26.0 [00:00<?, ?B/s]"
      ]
     },
     "metadata": {},
     "output_type": "display_data"
    },
    {
     "data": {
      "application/vnd.jupyter.widget-view+json": {
       "model_id": "7bd06ce7d1d9464ba4418bb45fdcdd93",
       "version_major": 2,
       "version_minor": 0
      },
      "text/plain": [
       "config.json:   0%|          | 0.00/1.80k [00:00<?, ?B/s]"
      ]
     },
     "metadata": {},
     "output_type": "display_data"
    },
    {
     "data": {
      "application/vnd.jupyter.widget-view+json": {
       "model_id": "7e1a0c9ffb114a6c820ddaf9ba2b9eb0",
       "version_major": 2,
       "version_minor": 0
      },
      "text/plain": [
       "vocab.json:   0%|          | 0.00/899k [00:00<?, ?B/s]"
      ]
     },
     "metadata": {},
     "output_type": "display_data"
    },
    {
     "data": {
      "application/vnd.jupyter.widget-view+json": {
       "model_id": "b79404788aab4956a7637b42fcd962d3",
       "version_major": 2,
       "version_minor": 0
      },
      "text/plain": [
       "merges.txt:   0%|          | 0.00/456k [00:00<?, ?B/s]"
      ]
     },
     "metadata": {},
     "output_type": "display_data"
    },
    {
     "data": {
      "application/vnd.jupyter.widget-view+json": {
       "model_id": "0d7deb045b4940ff94e0207abe3aa890",
       "version_major": 2,
       "version_minor": 0
      },
      "text/plain": [
       "pytorch_model.bin:   0%|          | 0.00/1.22G [00:00<?, ?B/s]"
      ]
     },
     "metadata": {},
     "output_type": "display_data"
    },
    {
     "name": "stdout",
     "output_type": "stream",
     "text": [
      "Modèle 'sshleifer/distilbart-cnn-12-6' chargé avec succès.\n"
     ]
    },
    {
     "data": {
      "application/vnd.jupyter.widget-view+json": {
       "model_id": "6bb4f919df294ba4b09fe64489b54f64",
       "version_major": 2,
       "version_minor": 0
      },
      "text/plain": [
       "tokenizer_config.json:   0%|          | 0.00/300 [00:00<?, ?B/s]"
      ]
     },
     "metadata": {},
     "output_type": "display_data"
    },
    {
     "data": {
      "application/vnd.jupyter.widget-view+json": {
       "model_id": "41c87593f24143bb85e0f5940c0de1ff",
       "version_major": 2,
       "version_minor": 0
      },
      "text/plain": [
       "config.json:   0%|          | 0.00/1.63k [00:00<?, ?B/s]"
      ]
     },
     "metadata": {},
     "output_type": "display_data"
    },
    {
     "data": {
      "application/vnd.jupyter.widget-view+json": {
       "model_id": "d0cc1f76ef184675a772902187d5c61f",
       "version_major": 2,
       "version_minor": 0
      },
      "text/plain": [
       "vocab.json:   0%|          | 0.00/798k [00:00<?, ?B/s]"
      ]
     },
     "metadata": {},
     "output_type": "display_data"
    },
    {
     "data": {
      "application/vnd.jupyter.widget-view+json": {
       "model_id": "2db67fe043f74a4ab0e2c670fc32ad45",
       "version_major": 2,
       "version_minor": 0
      },
      "text/plain": [
       "merges.txt:   0%|          | 0.00/456k [00:00<?, ?B/s]"
      ]
     },
     "metadata": {},
     "output_type": "display_data"
    },
    {
     "data": {
      "application/vnd.jupyter.widget-view+json": {
       "model_id": "d4f4e8dd1f854166ae852c4db301cd89",
       "version_major": 2,
       "version_minor": 0
      },
      "text/plain": [
       "special_tokens_map.json:   0%|          | 0.00/239 [00:00<?, ?B/s]"
      ]
     },
     "metadata": {},
     "output_type": "display_data"
    },
    {
     "data": {
      "application/vnd.jupyter.widget-view+json": {
       "model_id": "68363ae3779c42adb364daec26a08f46",
       "version_major": 2,
       "version_minor": 0
      },
      "text/plain": [
       "pytorch_model.bin:   0%|          | 0.00/1.63G [00:00<?, ?B/s]"
      ]
     },
     "metadata": {},
     "output_type": "display_data"
    },
    {
     "name": "stdout",
     "output_type": "stream",
     "text": [
      "Modèle 'philschmid/bart-large-cnn-samsum' chargé avec succès.\n"
     ]
    },
    {
     "name": "stderr",
     "output_type": "stream",
     "text": [
      "Some weights of PegasusForConditionalGeneration were not initialized from the model checkpoint at google/pegasus-xsum and are newly initialized: ['model.decoder.embed_positions.weight', 'model.encoder.embed_positions.weight']\n",
      "You should probably TRAIN this model on a down-stream task to be able to use it for predictions and inference.\n"
     ]
    },
    {
     "name": "stdout",
     "output_type": "stream",
     "text": [
      "Modèle 'google/pegasus-xsum' chargé avec succès.\n"
     ]
    },
    {
     "data": {
      "application/vnd.jupyter.widget-view+json": {
       "model_id": "750b60003b2642a1a9b0ccee39cfb927",
       "version_major": 2,
       "version_minor": 0
      },
      "text/plain": [
       "tokenizer_config.json:   0%|          | 0.00/2.54k [00:00<?, ?B/s]"
      ]
     },
     "metadata": {},
     "output_type": "display_data"
    },
    {
     "data": {
      "application/vnd.jupyter.widget-view+json": {
       "model_id": "15b0c1cf48f0429d915a2347b1dc6755",
       "version_major": 2,
       "version_minor": 0
      },
      "text/plain": [
       "spiece.model:   0%|          | 0.00/792k [00:00<?, ?B/s]"
      ]
     },
     "metadata": {},
     "output_type": "display_data"
    },
    {
     "data": {
      "application/vnd.jupyter.widget-view+json": {
       "model_id": "65bc3aa669564041bb0a1fdc35a6ac77",
       "version_major": 2,
       "version_minor": 0
      },
      "text/plain": [
       "tokenizer.json:   0%|          | 0.00/2.42M [00:00<?, ?B/s]"
      ]
     },
     "metadata": {},
     "output_type": "display_data"
    },
    {
     "data": {
      "application/vnd.jupyter.widget-view+json": {
       "model_id": "dcbdb714f57842a9a745addf1b5e215a",
       "version_major": 2,
       "version_minor": 0
      },
      "text/plain": [
       "special_tokens_map.json:   0%|          | 0.00/2.20k [00:00<?, ?B/s]"
      ]
     },
     "metadata": {},
     "output_type": "display_data"
    },
    {
     "data": {
      "application/vnd.jupyter.widget-view+json": {
       "model_id": "79ea700ea4744ac684dc0d4aafc44548",
       "version_major": 2,
       "version_minor": 0
      },
      "text/plain": [
       "config.json:   0%|          | 0.00/1.52k [00:00<?, ?B/s]"
      ]
     },
     "metadata": {},
     "output_type": "display_data"
    },
    {
     "data": {
      "application/vnd.jupyter.widget-view+json": {
       "model_id": "93e2bb2beac847939590f8f82d4f45b9",
       "version_major": 2,
       "version_minor": 0
      },
      "text/plain": [
       "pytorch_model.bin:   0%|          | 0.00/5.70G [00:00<?, ?B/s]"
      ]
     },
     "metadata": {},
     "output_type": "display_data"
    },
    {
     "name": "stdout",
     "output_type": "stream",
     "text": [
      "Modèle 'jordiclive/flan-t5-3b-summarizer' chargé avec succès.\n"
     ]
    }
   ],
   "source": [
    "models = {}\n",
    "for name in model_names:\n",
    "    try:\n",
    "        tokenizer = AutoTokenizer.from_pretrained(name)\n",
    "        model = AutoModelForSeq2SeqLM.from_pretrained(name)\n",
    "        models[name] = {\"tokenizer\": tokenizer, \"model\": model}\n",
    "        print(f\"Modèle '{name}' chargé avec succès.\")\n",
    "    except Exception as e:\n",
    "        print(f\"Erreur lors du chargement du modèle '{name}': {e}\")"
   ]
  },
  {
   "cell_type": "code",
   "execution_count": null,
   "metadata": {},
   "outputs": [],
   "source": [
    "import time\n",
    "\n",
    "def generate_summary_with_timing(model_dict, text, min_length=50, max_length=150):\n",
    "    tokenizer = model_dict[\"tokenizer\"]\n",
    "    model = model_dict[\"model\"]\n",
    "    inputs = tokenizer(text, return_tensors=\"pt\", truncation=True)\n",
    "    start_time = time.time()\n",
    "    summary_ids = model.generate(\n",
    "        inputs[\"input_ids\"],\n",
    "        min_length=min_length,\n",
    "        max_length=max_length,\n",
    "        length_penalty=2.0,\n",
    "        num_beams=4,\n",
    "        early_stopping=True\n",
    "    )\n",
    "    end_time = time.time()\n",
    "    summary = tokenizer.decode(summary_ids[0], skip_special_tokens=True)\n",
    "    generation_time = end_time - start_time\n",
    "    return summary, generation_time\n"
   ]
  },
  {
   "cell_type": "code",
   "execution_count": 28,
   "metadata": {},
   "outputs": [],
   "source": [
    "texts = [\n",
    "    {\n",
    "        \"title\": \"Chrysler Building Sale\",\n",
    "        \"content\": \"\"\"\n",
    "        The Chrysler Building, the famous art deco New York skyscraper, will be sold for a small fraction of its previous sales price. \n",
    "        According to The Real Deal, the building's owners have reached a deal to sell the Manhattan property for $150 million. \n",
    "        The Abu Dhabi Investment Council purchased the building in 2008 for nearly $800 million.\n",
    "        \"\"\"\n",
    "    },\n",
    "    {\n",
    "        \"title\": \"Advancements in AI\",\n",
    "        \"content\": \"\"\"\n",
    "        Artificial Intelligence (AI) has seen significant advancements in recent years, with applications ranging from healthcare to autonomous vehicles. \n",
    "        Researchers are focusing on improving machine learning algorithms to enhance the capabilities of AI systems. \n",
    "        Ethical considerations are also being discussed to ensure the responsible use of AI technologies.\n",
    "        \"\"\"\n",
    "    },\n",
    "    {\n",
    "        \"title\": \"Climate Change Effects\",\n",
    "        \"content\": \"\"\"\n",
    "        Climate change is leading to more frequent and severe weather events worldwide. \n",
    "        Rising global temperatures have been linked to droughts, floods, and hurricanes. \n",
    "        Governments and organizations are urged to implement policies to mitigate the impact of climate change and promote sustainability.\n",
    "        \"\"\"\n",
    "    }\n",
    "]"
   ]
  },
  {
   "cell_type": "code",
   "execution_count": 29,
   "metadata": {},
   "outputs": [],
   "source": [
    "import pandas as pd\n",
    "\n",
    "results = []\n",
    "for text in texts:\n",
    "    for name, model_dict in models.items():\n",
    "        summary, gen_time = generate_summary_with_timing(model_dict, text[\"content\"])\n",
    "        results.append({\n",
    "            \"Title\": text[\"title\"],\n",
    "            \"Model\": name,\n",
    "            \"Summary\": summary,\n",
    "            \"Generation Time (s)\": gen_time\n",
    "        })\n",
    "\n",
    "# Convert results to a DataFrame\n",
    "df_results = pd.DataFrame(results)"
   ]
  },
  {
   "cell_type": "code",
   "execution_count": null,
   "metadata": {},
   "outputs": [
    {
     "name": "stdout",
     "output_type": "stream",
     "text": [
      "Summarization Model Results:\n"
     ]
    },
    {
     "data": {
      "text/html": [
       "<div>\n",
       "<style scoped>\n",
       "    .dataframe tbody tr th:only-of-type {\n",
       "        vertical-align: middle;\n",
       "    }\n",
       "\n",
       "    .dataframe tbody tr th {\n",
       "        vertical-align: top;\n",
       "    }\n",
       "\n",
       "    .dataframe thead th {\n",
       "        text-align: right;\n",
       "    }\n",
       "</style>\n",
       "<table border=\"1\" class=\"dataframe\">\n",
       "  <thead>\n",
       "    <tr style=\"text-align: right;\">\n",
       "      <th></th>\n",
       "      <th>Title</th>\n",
       "      <th>Model</th>\n",
       "      <th>Summary</th>\n",
       "      <th>Generation Time (s)</th>\n",
       "    </tr>\n",
       "  </thead>\n",
       "  <tbody>\n",
       "    <tr>\n",
       "      <th>0</th>\n",
       "      <td>Chrysler Building Sale</td>\n",
       "      <td>facebook/bart-large-cnn</td>\n",
       "      <td>The building's owners have reached a deal to s...</td>\n",
       "      <td>5.142081</td>\n",
       "    </tr>\n",
       "    <tr>\n",
       "      <th>1</th>\n",
       "      <td>Chrysler Building Sale</td>\n",
       "      <td>sshleifer/distilbart-cnn-12-6</td>\n",
       "      <td>The Abu Dhabi Investment Council purchased th...</td>\n",
       "      <td>3.174531</td>\n",
       "    </tr>\n",
       "    <tr>\n",
       "      <th>2</th>\n",
       "      <td>Chrysler Building Sale</td>\n",
       "      <td>philschmid/bart-large-cnn-samsum</td>\n",
       "      <td>The Chrysler Building in New York will be sold...</td>\n",
       "      <td>3.519413</td>\n",
       "    </tr>\n",
       "    <tr>\n",
       "      <th>3</th>\n",
       "      <td>Chrysler Building Sale</td>\n",
       "      <td>google/pegasus-xsum</td>\n",
       "      <td>One of New York City's most famous buildings i...</td>\n",
       "      <td>6.868136</td>\n",
       "    </tr>\n",
       "    <tr>\n",
       "      <th>4</th>\n",
       "      <td>Chrysler Building Sale</td>\n",
       "      <td>jordiclive/flan-t5-3b-summarizer</td>\n",
       "      <td>The Chrysler Building will be sold for a fract...</td>\n",
       "      <td>35.223061</td>\n",
       "    </tr>\n",
       "    <tr>\n",
       "      <th>5</th>\n",
       "      <td>Advancements in AI</td>\n",
       "      <td>facebook/bart-large-cnn</td>\n",
       "      <td>Artificial Intelligence (AI) has seen signific...</td>\n",
       "      <td>3.904226</td>\n",
       "    </tr>\n",
       "    <tr>\n",
       "      <th>6</th>\n",
       "      <td>Advancements in AI</td>\n",
       "      <td>sshleifer/distilbart-cnn-12-6</td>\n",
       "      <td>Artificial Intelligence (AI) has seen signifi...</td>\n",
       "      <td>2.468999</td>\n",
       "    </tr>\n",
       "    <tr>\n",
       "      <th>7</th>\n",
       "      <td>Advancements in AI</td>\n",
       "      <td>philschmid/bart-large-cnn-samsum</td>\n",
       "      <td>Artificial Intelligence (AI) has seen signific...</td>\n",
       "      <td>3.496417</td>\n",
       "    </tr>\n",
       "    <tr>\n",
       "      <th>8</th>\n",
       "      <td>Advancements in AI</td>\n",
       "      <td>google/pegasus-xsum</td>\n",
       "      <td>BBC News takes a look at some of the key findi...</td>\n",
       "      <td>5.468980</td>\n",
       "    </tr>\n",
       "    <tr>\n",
       "      <th>9</th>\n",
       "      <td>Advancements in AI</td>\n",
       "      <td>jordiclive/flan-t5-3b-summarizer</td>\n",
       "      <td>Artificial Intelligence (AI) has seen signific...</td>\n",
       "      <td>20.056983</td>\n",
       "    </tr>\n",
       "    <tr>\n",
       "      <th>10</th>\n",
       "      <td>Climate Change Effects</td>\n",
       "      <td>facebook/bart-large-cnn</td>\n",
       "      <td>Climate change is leading to more frequent and...</td>\n",
       "      <td>5.135212</td>\n",
       "    </tr>\n",
       "    <tr>\n",
       "      <th>11</th>\n",
       "      <td>Climate Change Effects</td>\n",
       "      <td>sshleifer/distilbart-cnn-12-6</td>\n",
       "      <td>Climate change is leading to more frequent an...</td>\n",
       "      <td>2.454941</td>\n",
       "    </tr>\n",
       "    <tr>\n",
       "      <th>12</th>\n",
       "      <td>Climate Change Effects</td>\n",
       "      <td>philschmid/bart-large-cnn-samsum</td>\n",
       "      <td>Rising global temperatures are linked to droug...</td>\n",
       "      <td>3.385533</td>\n",
       "    </tr>\n",
       "    <tr>\n",
       "      <th>13</th>\n",
       "      <td>Climate Change Effects</td>\n",
       "      <td>google/pegasus-xsum</td>\n",
       "      <td>The World Meteorological Organization (WMO) ha...</td>\n",
       "      <td>4.680239</td>\n",
       "    </tr>\n",
       "    <tr>\n",
       "      <th>14</th>\n",
       "      <td>Climate Change Effects</td>\n",
       "      <td>jordiclive/flan-t5-3b-summarizer</td>\n",
       "      <td>Climate change is leading to more frequent and...</td>\n",
       "      <td>23.401673</td>\n",
       "    </tr>\n",
       "  </tbody>\n",
       "</table>\n",
       "</div>"
      ],
      "text/plain": [
       "                     Title                             Model  \\\n",
       "0   Chrysler Building Sale           facebook/bart-large-cnn   \n",
       "1   Chrysler Building Sale     sshleifer/distilbart-cnn-12-6   \n",
       "2   Chrysler Building Sale  philschmid/bart-large-cnn-samsum   \n",
       "3   Chrysler Building Sale               google/pegasus-xsum   \n",
       "4   Chrysler Building Sale  jordiclive/flan-t5-3b-summarizer   \n",
       "5       Advancements in AI           facebook/bart-large-cnn   \n",
       "6       Advancements in AI     sshleifer/distilbart-cnn-12-6   \n",
       "7       Advancements in AI  philschmid/bart-large-cnn-samsum   \n",
       "8       Advancements in AI               google/pegasus-xsum   \n",
       "9       Advancements in AI  jordiclive/flan-t5-3b-summarizer   \n",
       "10  Climate Change Effects           facebook/bart-large-cnn   \n",
       "11  Climate Change Effects     sshleifer/distilbart-cnn-12-6   \n",
       "12  Climate Change Effects  philschmid/bart-large-cnn-samsum   \n",
       "13  Climate Change Effects               google/pegasus-xsum   \n",
       "14  Climate Change Effects  jordiclive/flan-t5-3b-summarizer   \n",
       "\n",
       "                                              Summary  Generation Time (s)  \n",
       "0   The building's owners have reached a deal to s...             5.142081  \n",
       "1    The Abu Dhabi Investment Council purchased th...             3.174531  \n",
       "2   The Chrysler Building in New York will be sold...             3.519413  \n",
       "3   One of New York City's most famous buildings i...             6.868136  \n",
       "4   The Chrysler Building will be sold for a fract...            35.223061  \n",
       "5   Artificial Intelligence (AI) has seen signific...             3.904226  \n",
       "6    Artificial Intelligence (AI) has seen signifi...             2.468999  \n",
       "7   Artificial Intelligence (AI) has seen signific...             3.496417  \n",
       "8   BBC News takes a look at some of the key findi...             5.468980  \n",
       "9   Artificial Intelligence (AI) has seen signific...            20.056983  \n",
       "10  Climate change is leading to more frequent and...             5.135212  \n",
       "11   Climate change is leading to more frequent an...             2.454941  \n",
       "12  Rising global temperatures are linked to droug...             3.385533  \n",
       "13  The World Meteorological Organization (WMO) ha...             4.680239  \n",
       "14  Climate change is leading to more frequent and...            23.401673  "
      ]
     },
     "metadata": {},
     "output_type": "display_data"
    }
   ],
   "source": [
    "from IPython.display import display\n",
    "\n",
    "print(\"Summarization Model Results:\")\n",
    "display(df_results)"
   ]
  },
  {
   "cell_type": "code",
   "execution_count": 67,
   "metadata": {},
   "outputs": [
    {
     "name": "stdout",
     "output_type": "stream",
     "text": [
      "Index(['Modèle', 'ROUGE-1 F1', 'ROUGE-2 F1', 'ROUGE-L F1',\n",
      "       'Temps d'exécution (s)', 'Résumé'],\n",
      "      dtype='object')\n"
     ]
    }
   ],
   "source": [
    "print(df_results.columns)"
   ]
  },
  {
   "cell_type": "code",
   "execution_count": 81,
   "metadata": {},
   "outputs": [
    {
     "name": "stdout",
     "output_type": "stream",
     "text": [
      "\n",
      "Résumés pour le titre : Chrysler Building Sale\n",
      "\n",
      "**Modèle : facebook/bart-large-cnn**\n",
      "Résumé : The building's owners have reached a deal to sell the Manhattan property for $150 million. The Abu Dhabi Investment Council purchased the building in 2008 for nearly $800 million. It is expected to be sold for a fraction of its previous sales price.\n",
      "\n",
      "**Modèle : sshleifer/distilbart-cnn-12-6**\n",
      "Résumé :  The Abu Dhabi Investment Council purchased the building in 2008 for nearly $800 million. The deal is expected to sell for $150 million, according to The Real Deal. The building's owners have reached a deal to sell the Manhattan property for $100 million.\n",
      "\n",
      "**Modèle : philschmid/bart-large-cnn-samsum**\n",
      "Résumé : The Chrysler Building in New York will be sold for $150 million. The Abu Dhabi Investment Council bought the building in 2008 for nearly $800 million. It is a famous art deco New York skyscraper in the Art Deco style.\n",
      "\n",
      "**Modèle : google/pegasus-xsum**\n",
      "Résumé : One of New York City's most famous buildings is going up for sale, according to a report from The Real Deal, a website dedicated to the real estate industry. According to The Real Deal, the building's owners have reached a deal to sell the Manhattan property for $150 million.\n",
      "\n",
      "**Modèle : jordiclive/flan-t5-3b-summarizer**\n",
      "Résumé : The Chrysler Building will be sold for a fraction of its previous sale price. The Abu Dhabi Investment Council purchased the building in 2008 for nearly $800 million. The Abu Dhabi Investment Council purchased the building in 2008 for nearly $800 million. The Abu Dhabi Investment Council purchased the building in 2008 for nearly $800 million.\n"
     ]
    }
   ],
   "source": [
    "def assign_title(resume):\n",
    "    if \"Chrysler\" in resume or \"building\" in resume:\n",
    "        return \"Chrysler Building Sale\"\n",
    "    elif \"AI\" in resume or \"Artificial Intelligence\" in resume:\n",
    "        return \"Advancements in AI\"\n",
    "    elif \"Climate\" in resume or \"global warming\" in resume:\n",
    "        return \"Climate Change Effects\"\n",
    "    else:\n",
    "        return \"General News\"\n",
    "\n",
    "# Appliquer la fonction pour créer des titres\n",
    "df_results['Titre'] = df_results['Résumé'].apply(assign_title)\n",
    "\n",
    "# Visualisation corrigée\n",
    "for titre in df_results['Titre'].unique():\n",
    "    print(f\"\\nRésumés pour le titre : {titre}\")\n",
    "    df_title = df_results[df_results['Titre'] == titre]\n",
    "    \n",
    "    for index, row in df_title.iterrows():\n",
    "        print(f\"\\n**Modèle : {row['Modèle']}**\")\n",
    "        print(f\"Résumé : {row['Résumé']}\")\n"
   ]
  },
  {
   "cell_type": "code",
   "execution_count": null,
   "metadata": {},
   "outputs": [
    {
     "name": "stdout",
     "output_type": "stream",
     "text": [
      "Temps moyen de génération pour chaque modèle:\n"
     ]
    },
    {
     "data": {
      "text/html": [
       "<div>\n",
       "<style scoped>\n",
       "    .dataframe tbody tr th:only-of-type {\n",
       "        vertical-align: middle;\n",
       "    }\n",
       "\n",
       "    .dataframe tbody tr th {\n",
       "        vertical-align: top;\n",
       "    }\n",
       "\n",
       "    .dataframe thead th {\n",
       "        text-align: right;\n",
       "    }\n",
       "</style>\n",
       "<table border=\"1\" class=\"dataframe\">\n",
       "  <thead>\n",
       "    <tr style=\"text-align: right;\">\n",
       "      <th></th>\n",
       "      <th>Modèle</th>\n",
       "      <th>Temps d'exécution (s)</th>\n",
       "    </tr>\n",
       "  </thead>\n",
       "  <tbody>\n",
       "    <tr>\n",
       "      <th>0</th>\n",
       "      <td>facebook/bart-large-cnn</td>\n",
       "      <td>3.861</td>\n",
       "    </tr>\n",
       "    <tr>\n",
       "      <th>1</th>\n",
       "      <td>google/pegasus-xsum</td>\n",
       "      <td>4.622</td>\n",
       "    </tr>\n",
       "    <tr>\n",
       "      <th>2</th>\n",
       "      <td>jordiclive/flan-t5-3b-summarizer</td>\n",
       "      <td>16.805</td>\n",
       "    </tr>\n",
       "    <tr>\n",
       "      <th>3</th>\n",
       "      <td>philschmid/bart-large-cnn-samsum</td>\n",
       "      <td>3.201</td>\n",
       "    </tr>\n",
       "    <tr>\n",
       "      <th>4</th>\n",
       "      <td>sshleifer/distilbart-cnn-12-6</td>\n",
       "      <td>2.134</td>\n",
       "    </tr>\n",
       "  </tbody>\n",
       "</table>\n",
       "</div>"
      ],
      "text/plain": [
       "                             Modèle  Temps d'exécution (s)\n",
       "0           facebook/bart-large-cnn                  3.861\n",
       "1               google/pegasus-xsum                  4.622\n",
       "2  jordiclive/flan-t5-3b-summarizer                 16.805\n",
       "3  philschmid/bart-large-cnn-samsum                  3.201\n",
       "4     sshleifer/distilbart-cnn-12-6                  2.134"
      ]
     },
     "metadata": {},
     "output_type": "display_data"
    }
   ],
   "source": [
    "# temps moyen pour chaque modèle / inférence\n",
    "mean_times = df_results.groupby('Modèle')[\"Temps d'exécution (s)\"].mean().reset_index()\n",
    "\n",
    "# Afficher les temps moyens\n",
    "print(\"Temps moyen de génération pour chaque modèle:\")\n",
    "display(mean_times)"
   ]
  },
  {
   "cell_type": "code",
   "execution_count": 51,
   "metadata": {},
   "outputs": [
    {
     "data": {
      "image/png": "[encoded data removed]",
      "text/plain": [
       "<Figure size 1200x800 with 1 Axes>"
      ]
     },
     "metadata": {},
     "output_type": "display_data"
    }
   ],
   "source": [
    "df_eval.plot(\n",
    "    x=\"Model\", \n",
    "    kind=\"bar\", \n",
    "    figsize=(12, 8), \n",
    "    title=\"Comparison of ROUGE Scores by Model\", \n",
    "    grid=True,\n",
    "    colormap=\"viridis\"\n",
    ")\n",
    "plt.ylabel(\"F1 Score\")\n",
    "plt.xticks(rotation=45)\n",
    "plt.tight_layout()\n",
    "plt.show()"
   ]
  },
  {
   "cell_type": "markdown",
   "metadata": {},
   "source": []
  },
  {
   "cell_type": "code",
   "execution_count": null,
   "metadata": {},
   "outputs": [
    {
     "name": "stdout",
     "output_type": "stream",
     "text": [
      "ROUGE Scores by Model:\n"
     ]
    },
    {
     "data": {
      "text/html": [
       "<div>\n",
       "<style scoped>\n",
       "    .dataframe tbody tr th:only-of-type {\n",
       "        vertical-align: middle;\n",
       "    }\n",
       "\n",
       "    .dataframe tbody tr th {\n",
       "        vertical-align: top;\n",
       "    }\n",
       "\n",
       "    .dataframe thead th {\n",
       "        text-align: right;\n",
       "    }\n",
       "</style>\n",
       "<table border=\"1\" class=\"dataframe\">\n",
       "  <thead>\n",
       "    <tr style=\"text-align: right;\">\n",
       "      <th></th>\n",
       "      <th>Model</th>\n",
       "      <th>ROUGE-1 F1</th>\n",
       "      <th>ROUGE-2 F1</th>\n",
       "      <th>ROUGE-L F1</th>\n",
       "    </tr>\n",
       "  </thead>\n",
       "  <tbody>\n",
       "    <tr>\n",
       "      <th>0</th>\n",
       "      <td>facebook/bart-large-cnn</td>\n",
       "      <td>0.429</td>\n",
       "      <td>0.147</td>\n",
       "      <td>0.257</td>\n",
       "    </tr>\n",
       "    <tr>\n",
       "      <th>1</th>\n",
       "      <td>sshleifer/distilbart-cnn-12-6</td>\n",
       "      <td>0.286</td>\n",
       "      <td>0.088</td>\n",
       "      <td>0.200</td>\n",
       "    </tr>\n",
       "    <tr>\n",
       "      <th>2</th>\n",
       "      <td>philschmid/bart-large-cnn-samsum</td>\n",
       "      <td>0.606</td>\n",
       "      <td>0.469</td>\n",
       "      <td>0.455</td>\n",
       "    </tr>\n",
       "    <tr>\n",
       "      <th>3</th>\n",
       "      <td>google/pegasus-xsum</td>\n",
       "      <td>0.260</td>\n",
       "      <td>0.080</td>\n",
       "      <td>0.156</td>\n",
       "    </tr>\n",
       "    <tr>\n",
       "      <th>4</th>\n",
       "      <td>jordiclive/flan-t5-3b-summarizer</td>\n",
       "      <td>0.390</td>\n",
       "      <td>0.150</td>\n",
       "      <td>0.268</td>\n",
       "    </tr>\n",
       "  </tbody>\n",
       "</table>\n",
       "</div>"
      ],
      "text/plain": [
       "                              Model  ROUGE-1 F1  ROUGE-2 F1  ROUGE-L F1\n",
       "0           facebook/bart-large-cnn       0.429       0.147       0.257\n",
       "1     sshleifer/distilbart-cnn-12-6       0.286       0.088       0.200\n",
       "2  philschmid/bart-large-cnn-samsum       0.606       0.469       0.455\n",
       "3               google/pegasus-xsum       0.260       0.080       0.156\n",
       "4  jordiclive/flan-t5-3b-summarizer       0.390       0.150       0.268"
      ]
     },
     "metadata": {},
     "output_type": "display_data"
    }
   ],
   "source": [
    "print(\"ROUGE Scores by Model:\")\n",
    "display(df_eval)\n",
    "\n"
   ]
  },
  {
   "cell_type": "code",
   "execution_count": 47,
   "metadata": {},
   "outputs": [
    {
     "data": {
      "image/png": "[encoded data removed]",
      "text/plain": [
       "<Figure size 800x600 with 1 Axes>"
      ]
     },
     "metadata": {},
     "output_type": "display_data"
    }
   ],
   "source": [
    "import matplotlib.pyplot as plt\n",
    "\n",
    "# Créer le graphique des temps d'exécution\n",
    "plt.figure(figsize=(8, 6))\n",
    "plt.bar(df_results['Modèle'], df_results[\"Temps d'exécution (s)\"], color='skyblue')\n",
    "plt.xlabel('Modèle')\n",
    "plt.ylabel('Temps d\\'exécution (secondes)')\n",
    "plt.title('Temps d\\'exécution par modèle')\n",
    "plt.show()"
   ]
  },
  {
   "cell_type": "markdown",
   "metadata": {},
   "source": [
    "BLEU (Bilingual Evaluation Understudy)\n",
    "- Évalue la similarité entre les textes générés et les références humaines.\n",
    "- Appropriée pour des résumés ou traductions."
   ]
  },
  {
   "cell_type": "code",
   "execution_count": 83,
   "metadata": {},
   "outputs": [],
   "source": [
    "from nltk.translate.bleu_score import sentence_bleu\n",
    "\n",
    "def compute_bleu_score(reference, candidate):\n",
    "    return sentence_bleu([reference.split()], candidate.split())\n",
    "\n",
    "df_results['BLEU'] = df_results.apply(\n",
    "    lambda row: compute_bleu_score(\"texte de référence\", row['Résumé']),\n",
    "    axis=1\n",
    ")"
   ]
  },
  {
   "cell_type": "markdown",
   "metadata": {},
   "source": [
    "METEOR (Metric for Evaluation of Translation with Explicit ORdering)\n",
    "- Considère la synonymie et la réorganisation grammaticale.\n",
    "- Plus robuste que BLEU pour des variations lexicales."
   ]
  },
  {
   "cell_type": "code",
   "execution_count": 85,
   "metadata": {},
   "outputs": [
    {
     "name": "stderr",
     "output_type": "stream",
     "text": [
      "[nltk_data] Downloading package punkt to\n",
      "[nltk_data]     C:\\Users\\calar\\AppData\\Roaming\\nltk_data...\n",
      "[nltk_data]   Package punkt is already up-to-date!\n"
     ]
    }
   ],
   "source": [
    "from nltk.translate.meteor_score import meteor_score\n",
    "import nltk\n",
    "\n",
    "# Assurez-vous d'avoir téléchargé les ressources nécessaires pour NLTK\n",
    "nltk.download('punkt')\n",
    "\n",
    "# Texte de référence tokenisé\n",
    "reference_text = \"The Chrysler Building, a famous art deco skyscraper in New York, will be sold for $150 million, far less than its 2008 price of $800 million.\"\n",
    "reference_tokens = nltk.word_tokenize(reference_text)\n",
    "\n",
    "# Calculer le score METEOR pour chaque résumé\n",
    "df_results['METEOR'] = df_results.apply(\n",
    "    lambda row: meteor_score([reference_tokens], nltk.word_tokenize(row['Résumé'])),\n",
    "    axis=1\n",
    ")"
   ]
  },
  {
   "cell_type": "code",
   "execution_count": null,
   "metadata": {},
   "outputs": [],
   "source": [
    "!pip install bert_score"
   ]
  },
  {
   "cell_type": "markdown",
   "metadata": {},
   "source": [
    "- Utilise des embeddings BERT pour évaluer la similarité sémantique.\n",
    "Pas mal pour des tâches où la compréhension est plus importante que la correspondance lexicale"
   ]
  },
  {
   "cell_type": "code",
   "execution_count": 88,
   "metadata": {},
   "outputs": [
    {
     "data": {
      "application/vnd.jupyter.widget-view+json": {
       "model_id": "01187fc65f2c4f8c9066d64f81839a34",
       "version_major": 2,
       "version_minor": 0
      },
      "text/plain": [
       "tokenizer_config.json:   0%|          | 0.00/25.0 [00:00<?, ?B/s]"
      ]
     },
     "metadata": {},
     "output_type": "display_data"
    },
    {
     "data": {
      "application/vnd.jupyter.widget-view+json": {
       "model_id": "49e5d8870210429c8f69da3f26d70fed",
       "version_major": 2,
       "version_minor": 0
      },
      "text/plain": [
       "config.json:   0%|          | 0.00/482 [00:00<?, ?B/s]"
      ]
     },
     "metadata": {},
     "output_type": "display_data"
    },
    {
     "data": {
      "application/vnd.jupyter.widget-view+json": {
       "model_id": "cc6bb3f5e3d54b86ab1ff25a34f9b9d9",
       "version_major": 2,
       "version_minor": 0
      },
      "text/plain": [
       "vocab.json:   0%|          | 0.00/899k [00:00<?, ?B/s]"
      ]
     },
     "metadata": {},
     "output_type": "display_data"
    },
    {
     "data": {
      "application/vnd.jupyter.widget-view+json": {
       "model_id": "bd69d1cf32cc423a89329834895fede1",
       "version_major": 2,
       "version_minor": 0
      },
      "text/plain": [
       "merges.txt:   0%|          | 0.00/456k [00:00<?, ?B/s]"
      ]
     },
     "metadata": {},
     "output_type": "display_data"
    },
    {
     "data": {
      "application/vnd.jupyter.widget-view+json": {
       "model_id": "30d53dc1c87c46ee851a08106582d5b6",
       "version_major": 2,
       "version_minor": 0
      },
      "text/plain": [
       "tokenizer.json:   0%|          | 0.00/1.36M [00:00<?, ?B/s]"
      ]
     },
     "metadata": {},
     "output_type": "display_data"
    },
    {
     "data": {
      "application/vnd.jupyter.widget-view+json": {
       "model_id": "aeffb91f83434fda8816232c0a6e2a58",
       "version_major": 2,
       "version_minor": 0
      },
      "text/plain": [
       "model.safetensors:   0%|          | 0.00/1.42G [00:00<?, ?B/s]"
      ]
     },
     "metadata": {},
     "output_type": "display_data"
    },
    {
     "name": "stderr",
     "output_type": "stream",
     "text": [
      "Some weights of RobertaModel were not initialized from the model checkpoint at roberta-large and are newly initialized: ['roberta.pooler.dense.bias', 'roberta.pooler.dense.weight']\n",
      "You should probably TRAIN this model on a down-stream task to be able to use it for predictions and inference.\n"
     ]
    },
    {
     "name": "stdout",
     "output_type": "stream",
     "text": [
      "calculating scores...\n",
      "computing bert embedding.\n"
     ]
    },
    {
     "data": {
      "application/vnd.jupyter.widget-view+json": {
       "model_id": "1a46f39de50b4263bf248a3fe148f029",
       "version_major": 2,
       "version_minor": 0
      },
      "text/plain": [
       "  0%|          | 0/1 [00:00<?, ?it/s]"
      ]
     },
     "metadata": {},
     "output_type": "display_data"
    },
    {
     "name": "stdout",
     "output_type": "stream",
     "text": [
      "computing greedy matching.\n"
     ]
    },
    {
     "data": {
      "application/vnd.jupyter.widget-view+json": {
       "model_id": "23d96f5f386f4608af81af3397b23df6",
       "version_major": 2,
       "version_minor": 0
      },
      "text/plain": [
       "  0%|          | 0/1 [00:00<?, ?it/s]"
      ]
     },
     "metadata": {},
     "output_type": "display_data"
    },
    {
     "name": "stdout",
     "output_type": "stream",
     "text": [
      "done in 0.63 seconds, 7.98 sentences/sec\n"
     ]
    }
   ],
   "source": [
    "from bert_score import score\n",
    "\n",
    "references = [\"texte de référence\"] * len(df_results)\n",
    "candidates = df_results['Résumé'].tolist()\n",
    "\n",
    "P, R, F1 = score(candidates, references, lang=\"en\", verbose=True)\n",
    "df_results['BERTScore'] = F1.numpy()"
   ]
  },
  {
   "cell_type": "code",
   "execution_count": 89,
   "metadata": {},
   "outputs": [],
   "source": [
    "from sklearn.metrics.pairwise import cosine_similarity\n",
    "from sentence_transformers import SentenceTransformer\n",
    "\n",
    "model = SentenceTransformer('all-MiniLM-L6-v2')\n",
    "\n",
    "# Calcul des embeddings\n",
    "references_embeddings = model.encode([\"texte de référence\"] * len(df_results))\n",
    "generated_embeddings = model.encode(df_results['Résumé'].tolist())\n",
    "\n",
    "# Similarité cosinus\n",
    "df_results['Cosine Similarity'] = [\n",
    "    cosine_similarity([ref], [gen])[0][0]\n",
    "    for ref, gen in zip(references_embeddings, generated_embeddings)\n",
    "]"
   ]
  },
  {
   "cell_type": "code",
   "execution_count": null,
   "metadata": {},
   "outputs": [],
   "source": [
    "# Pondération des métriques pour une note finale\n",
    "df_results['Overall Score'] = (\n",
    "    0.3 * df_results['ROUGE-1 F1'] +\n",
    "    0.3 * df_results['BERTScore'] +\n",
    "    0.2 * df_results['Cosine Similarity'] +\n",
    "    0.2 * (1 / df_results['Temps d\\'exécution (s)']) \n",
    ")"
   ]
  },
  {
   "cell_type": "code",
   "execution_count": null,
   "metadata": {},
   "outputs": [
    {
     "data": {
      "image/png": "[encoded data removed]",
      "text/plain": [
       "<Figure size 1000x600 with 1 Axes>"
      ]
     },
     "metadata": {},
     "output_type": "display_data"
    },
    {
     "name": "stdout",
     "output_type": "stream",
     "text": [
      "\u001b[32m✨ Il semblerait que le modèle qui correspondrait le mieux à nos besoins soit 'philschmid/bart-large-cnn-samsum' avec un score global de 0.48. ✨\u001b[0m\n"
     ]
    }
   ],
   "source": [
    "import matplotlib.pyplot as plt\n",
    "\n",
    "# Trier par score global\n",
    "best_model = df_results.sort_values('Overall Score', ascending=False).iloc[0]  # Le meilleur modèle\n",
    "\n",
    "# Graphique\n",
    "df_results.sort_values('Overall Score', ascending=False).plot(\n",
    "    x='Modèle', y='Overall Score', kind='bar', figsize=(10, 6),\n",
    "    title='Comparaison des performances des modèles'\n",
    ")\n",
    "plt.ylabel('Score global')\n",
    "plt.show()\n",
    "\n",
    "from termcolor import colored\n",
    "\n",
    "print(colored(f\"✨ Il semblerait que le modèle qui correspondrait le mieux à nos besoins soit '{best_model['Modèle']}' \"\n",
    "              f\"avec un score global de {best_model['Overall Score']:.2f}. ✨\", 'green'))\n"
   ]
  },
  {
   "cell_type": "code",
   "execution_count": 92,
   "metadata": {},
   "outputs": [
    {
     "name": "stdout",
     "output_type": "stream",
     "text": [
      "                             Modèle  ROUGE-1 F1  BERTScore  Cosine Similarity  \\\n",
      "0           facebook/bart-large-cnn       0.429      0.771             -0.015   \n",
      "1     sshleifer/distilbart-cnn-12-6       0.286      0.771              0.018   \n",
      "2  philschmid/bart-large-cnn-samsum       0.606      0.767              0.018   \n",
      "3               google/pegasus-xsum       0.260      0.772             -0.023   \n",
      "4  jordiclive/flan-t5-3b-summarizer       0.390      0.758              0.009   \n",
      "\n",
      "   Temps d'exécution (s)  Overall Score  \n",
      "0                  3.861          0.409  \n",
      "1                  2.134          0.414  \n",
      "2                  3.201          0.478  \n",
      "3                  4.622          0.348  \n",
      "4                 16.805          0.358  \n"
     ]
    }
   ],
   "source": [
    "print(df_results[['Modèle', 'ROUGE-1 F1', 'BERTScore', 'Cosine Similarity', 'Temps d\\'exécution (s)', 'Overall Score']])\n"
   ]
  },
  {
   "cell_type": "code",
   "execution_count": null,
   "metadata": {},
   "outputs": [],
   "source": [
    "from transformers import AutoTokenizer, AutoModelForSeq2SeqLM\n",
    "import time\n",
    "\n",
    "model_name = \"philschmid/bart-large-cnn-samsum\"  \n",
    "tokenizer = AutoTokenizer.from_pretrained(model_name)\n",
    "model = AutoModelForSeq2SeqLM.from_pretrained(model_name)\n",
    "\n",
    "def generate_summary_with_timing(model, tokenizer, text, min_length=50, max_length=150):\n",
    "    \"\"\"\n",
    "    Generate summary and record the time taken.\n",
    "    \"\"\"\n",
    "    inputs = tokenizer(text, return_tensors=\"pt\", truncation=True, padding=\"longest\")\n",
    "    start_time = time.time()\n",
    "    summary_ids = model.generate(\n",
    "        inputs[\"input_ids\"],\n",
    "        min_length=min_length,\n",
    "        max_length=max_length,\n",
    "        length_penalty=2.0,\n",
    "        num_beams=4,\n",
    "        early_stopping=True\n",
    "    )\n",
    "    end_time = time.time()\n",
    "    summary = tokenizer.decode(summary_ids[0], skip_special_tokens=True)\n",
    "    generation_time = end_time - start_time\n",
    "    return summary, generation_time"
   ]
  },
  {
   "cell_type": "code",
   "execution_count": 104,
   "metadata": {},
   "outputs": [],
   "source": [
    "# Liste des affirmations philosophiques\n",
    "affirmations = [\n",
    "    \"Alan Turing famously laid the foundations of artificial intelligence. Today, AI can replicate human behaviors, but it lacks the capacity to suffer, to hope, or to dream. Can we truly call it intelligent if it misses the essence of human experience?\",\n",
    "    \"Artificial intelligence has achieved the unimaginable: creating art, music, and even poetry. But every AI masterpiece is a mosaic of human ideas, values, and instructions. The machine creates, but the spark of inspiration remains deeply human.\",\n",
    "    \"Philosophers like Nietzsche proclaimed the death of God, ushering in an era of human autonomy. Yet, with the rise of AI, humanity seems eager to hand over decision-making to algorithms. Have we found a new 'God' in artificial intelligence?\",\n",
    "    \"Descartes’ declaration 'I think, therefore I am' defined existence by thought. But AI, despite its ability to process vast amounts of information, does not 'exist' in the Cartesian sense. It thinks, but does not feel. It acts, but does not desire.\",\n",
    "    \"AI is not just a tool; it is a mirror. Its biases, its decisions, its outcomes reflect the imperfections of its creators. As we teach machines, we must ask ourselves: are we imparting wisdom, or are we amplifying our own flaws?\"\n",
    "]"
   ]
  },
  {
   "cell_type": "code",
   "execution_count": null,
   "metadata": {},
   "outputs": [
    {
     "name": "stderr",
     "output_type": "stream",
     "text": [
      "C:\\Users\\calar\\AppData\\Local\\Temp\\ipykernel_16180\\3799822646.py:1: DeprecationWarning: Importing display from IPython.core.display is deprecated since IPython 7.14, please import from IPython display\n",
      "  from IPython.core.display import display, HTML\n"
     ]
    },
    {
     "data": {
      "text/html": [
       "\n",
       "<style>\n",
       "    .result { \n",
       "        font-family: Arial, sans-serif; \n",
       "        border: 1px solid #ccc; \n",
       "        padding: 10px; \n",
       "        margin-bottom: 15px; \n",
       "        border-radius: 5px;\n",
       "        background-color: #f9f9f9;\n",
       "    }\n",
       "    .header { \n",
       "        font-weight: bold; \n",
       "        color: #333; \n",
       "        margin-bottom: 10px; \n",
       "    }\n",
       "    .compression {\n",
       "        font-style: italic;\n",
       "        color: #555;\n",
       "    }\n",
       "</style>\n",
       "\n",
       "    <div class='result'>\n",
       "        <div class='header'>Affirmation 1 :</div>\n",
       "        <p>Alan Turing famously laid the foundations of artificial intelligence. Today, AI can replicate human behaviors, but it lacks the capacity to suffer, to hope, or to dream. Can we truly call it intelligent if it misses the essence of human experience?</p>\n",
       "        <div class='header'>Résumé généré :</div>\n",
       "        <p>Alan Turing laid the foundations of artificial intelligence. Today, AI can replicate human behaviors, but it lacks the capacity to suffer, to hope, or to dream. Can we truly call it intelligent if it misses the essence of human experience? </p>\n",
       "        <div class='compression'>\n",
       "            Longueur originale : 41 mots | Résumé : 40 mots | Compression : 2.44%\n",
       "        </div>\n",
       "        <div class='compression'>Temps de génération : 2.89 secondes</div>\n",
       "    </div>\n",
       "    \n",
       "    <div class='result'>\n",
       "        <div class='header'>Affirmation 2 :</div>\n",
       "        <p>Artificial intelligence has achieved the unimaginable: creating art, music, and even poetry. But every AI masterpiece is a mosaic of human ideas, values, and instructions. The machine creates, but the spark of inspiration remains deeply human.</p>\n",
       "        <div class='header'>Résumé généré :</div>\n",
       "        <p>Artificial intelligence has achieved the unimaginable, creating art, music, and even poetry. Every AI masterpiece is a mosaic of human ideas, values, and instructions. The machine creates, but the spark of inspiration remains deeply human. </p>\n",
       "        <div class='compression'>\n",
       "            Longueur originale : 36 mots | Résumé : 35 mots | Compression : 2.78%\n",
       "        </div>\n",
       "        <div class='compression'>Temps de génération : 3.04 secondes</div>\n",
       "    </div>\n",
       "    \n",
       "    <div class='result'>\n",
       "        <div class='header'>Affirmation 3 :</div>\n",
       "        <p>Philosophers like Nietzsche proclaimed the death of God, ushering in an era of human autonomy. Yet, with the rise of AI, humanity seems eager to hand over decision-making to algorithms. Have we found a new 'God' in artificial intelligence?</p>\n",
       "        <div class='header'>Résumé généré :</div>\n",
       "        <p>Philosophers like Nietzsche proclaimed the death of God, ushering in an era of human autonomy. With the rise of AI, humanity seems eager to hand over decision-making to algorithms. Have we found a new 'God' in artificial intelligence?</p>\n",
       "        <div class='compression'>\n",
       "            Longueur originale : 39 mots | Résumé : 38 mots | Compression : 2.56%\n",
       "        </div>\n",
       "        <div class='compression'>Temps de génération : 2.89 secondes</div>\n",
       "    </div>\n",
       "    \n",
       "    <div class='result'>\n",
       "        <div class='header'>Affirmation 4 :</div>\n",
       "        <p>Descartes’ declaration 'I think, therefore I am' defined existence by thought. But AI, despite its ability to process vast amounts of information, does not 'exist' in the Cartesian sense. It thinks, but does not feel. It acts, but does not desire.</p>\n",
       "        <div class='header'>Résumé généré :</div>\n",
       "        <p>AI does not 'exist' in the Cartesian sense. It thinks, but does not feel. It acts, but doesn't desire. It is not a consciousness. It does not exist in the sense of 'I think, therefore I am'.</p>\n",
       "        <div class='compression'>\n",
       "            Longueur originale : 41 mots | Résumé : 37 mots | Compression : 9.76%\n",
       "        </div>\n",
       "        <div class='compression'>Temps de génération : 2.94 secondes</div>\n",
       "    </div>\n",
       "    \n",
       "    <div class='result'>\n",
       "        <div class='header'>Affirmation 5 :</div>\n",
       "        <p>AI is not just a tool; it is a mirror. Its biases, its decisions, its outcomes reflect the imperfections of its creators. As we teach machines, we must ask ourselves: are we imparting wisdom, or are we amplifying our own flaws?</p>\n",
       "        <div class='header'>Résumé généré :</div>\n",
       "        <p>AI is not just a tool, it's a mirror reflecting its creators' imperfections. As we teach machines, we must ask ourselves if we are imparting wisdom or amplifying our own flaws.   .  </p>\n",
       "        <div class='compression'>\n",
       "            Longueur originale : 41 mots | Résumé : 32 mots | Compression : 21.95%\n",
       "        </div>\n",
       "        <div class='compression'>Temps de génération : 2.67 secondes</div>\n",
       "    </div>\n",
       "    "
      ],
      "text/plain": [
       "<IPython.core.display.HTML object>"
      ]
     },
     "metadata": {},
     "output_type": "display_data"
    }
   ],
   "source": [
    "from IPython.core.display import display, HTML\n",
    "\n",
    "def calculate_compression(original_text, summary_text):\n",
    "    original_length = len(original_text.split())\n",
    "    summary_length = len(summary_text.split())\n",
    "    compression = (original_length - summary_length) / original_length * 100\n",
    "    return original_length, summary_length, compression\n",
    "\n",
    "html_output = \"\"\"\n",
    "<style>\n",
    "    .result { \n",
    "        font-family: Arial, sans-serif; \n",
    "        border: 1px solid #ccc; \n",
    "        padding: 10px; \n",
    "        margin-bottom: 15px; \n",
    "        border-radius: 5px;\n",
    "        background-color: #f9f9f9;\n",
    "    }\n",
    "    .header { \n",
    "        font-weight: bold; \n",
    "        color: #333; \n",
    "        margin-bottom: 10px; \n",
    "    }\n",
    "    .compression {\n",
    "        font-style: italic;\n",
    "        color: #555;\n",
    "    }\n",
    "</style>\n",
    "\"\"\"\n",
    "\n",
    "for i, affirmation in enumerate(affirmations, 1):\n",
    "    summary, generation_time = generate_summary_with_timing(model, tokenizer, affirmation, min_length=50, max_length=150)\n",
    "    original_length, summary_length, compression = calculate_compression(affirmation, summary)\n",
    "    \n",
    "    html_output += f\"\"\"\n",
    "    <div class='result'>\n",
    "        <div class='header'>Affirmation {i} :</div>\n",
    "        <p>{affirmation}</p>\n",
    "        <div class='header'>Résumé généré :</div>\n",
    "        <p>{summary}</p>\n",
    "        <div class='compression'>\n",
    "            Longueur originale : {original_length} mots | Résumé : {summary_length} mots | Compression : {compression:.2f}%\n",
    "        </div>\n",
    "        <div class='compression'>Temps de génération : {generation_time:.2f} secondes</div>\n",
    "    </div>\n",
    "    \"\"\"\n",
    "\n",
    "display(HTML(html_output))"
   ]
  },
  {
   "cell_type": "code",
   "execution_count": 105,
   "metadata": {},
   "outputs": [],
   "source": [
    "def generate_summary_with_compression(model, tokenizer, text, target_compression=50, max_retries=5):\n",
    "    \"\"\"\n",
    "    Generate a summary with a target compression rate using philschmid/bart-large-cnn-samsum.\n",
    "    \n",
    "    Parameters:\n",
    "    - model: Le modèle de génération (Bart spécifique).\n",
    "    - tokenizer: Le tokenizer correspondant.\n",
    "    - text: Texte original à résumer.\n",
    "    - target_compression: Taux de compression cible (%).\n",
    "    - max_retries: Nombre maximum de tentatives pour ajuster la longueur.\n",
    "\n",
    "    Returns:\n",
    "    - summary: Résumé généré.\n",
    "    - compression: Taux de compression obtenu.\n",
    "    - generation_time: Temps de génération.\n",
    "    \"\"\"\n",
    "    original_length = len(text.split())\n",
    "    min_length = int(original_length * (1 - target_compression / 100))\n",
    "    max_length = original_length  # Éviter que le résumé dépasse la longueur originale\n",
    "    \n",
    "    retries = 0\n",
    "    while retries < max_retries:\n",
    "        inputs = tokenizer(text, return_tensors=\"pt\", truncation=True, padding=\"longest\")\n",
    "        start_time = time.time()\n",
    "        \n",
    "        summary_ids = model.generate(\n",
    "            inputs[\"input_ids\"],\n",
    "            min_length=min_length,\n",
    "            max_length=max_length,\n",
    "            length_penalty=2.0,\n",
    "            num_beams=4,\n",
    "            early_stopping=True\n",
    "        )\n",
    "        end_time = time.time()\n",
    "        \n",
    "        summary = tokenizer.decode(summary_ids[0], skip_special_tokens=True)\n",
    "        summary_length = len(summary.split())\n",
    "        compression = (original_length - summary_length) / original_length * 100\n",
    "        \n",
    "        # Vérifier si le taux cible est atteint\n",
    "        if abs(compression - target_compression) <= 5:\n",
    "            return summary, compression, end_time - start_time\n",
    "        \n",
    "        # Ajuster les paramètres pour se rapprocher du taux cible\n",
    "        if compression < target_compression:  # Résumé trop long\n",
    "            min_length -= 1\n",
    "        else:  # Résumé trop court\n",
    "            max_length -= 1\n",
    "        \n",
    "        retries += 1\n",
    "    \n",
    "    # Retourner le meilleur résultat après les tentatives\n",
    "    return summary, compression, end_time - start_time\n"
   ]
  },
  {
   "cell_type": "code",
   "execution_count": 107,
   "metadata": {},
   "outputs": [
    {
     "data": {
      "text/html": [
       "\n",
       "<style>\n",
       "    .result { \n",
       "        font-family: Arial, sans-serif; \n",
       "        border: 1px solid #ccc; \n",
       "        padding: 10px; \n",
       "        margin-bottom: 15px; \n",
       "        border-radius: 5px;\n",
       "        background-color: #f9f9f9;\n",
       "    }\n",
       "    .header { \n",
       "        font-weight: bold; \n",
       "        color: #333; \n",
       "        margin-bottom: 10px; \n",
       "    }\n",
       "    .compression {\n",
       "        font-style: italic;\n",
       "        color: #555;\n",
       "    }\n",
       "</style>\n",
       "\n",
       "    <div class='result'>\n",
       "        <div class='header'>Affirmation 1 :</div>\n",
       "        <p>Alan Turing famously laid the foundations of artificial intelligence. Today, AI can replicate human behaviors, but it lacks the capacity to suffer, to hope, or to dream. Can we truly call it intelligent if it misses the essence of human experience?</p>\n",
       "        <div class='header'>Résumé généré :</div>\n",
       "        <p>Alan Turing laid the foundations of artificial intelligence. Today, AI can replicate human behaviors, but it lacks the capacity to suffer, to hope, or to dream.</p>\n",
       "        <div class='compression'>\n",
       "            Longueur originale : 41 mots | Résumé : 26 mots | Compression : 36.59%\n",
       "        </div>\n",
       "        <div class='compression'>Temps de génération : 2.33 secondes</div>\n",
       "    </div>\n",
       "    \n",
       "    <div class='result'>\n",
       "        <div class='header'>Affirmation 2 :</div>\n",
       "        <p>Artificial intelligence has achieved the unimaginable: creating art, music, and even poetry. But every AI masterpiece is a mosaic of human ideas, values, and instructions. The machine creates, but the spark of inspiration remains deeply human.</p>\n",
       "        <div class='header'>Résumé généré :</div>\n",
       "        <p>Artificial intelligence has achieved the unimaginable, creating art, music, and even poetry. Every AI masterpiece is a mosaic of human ideas, values, and instructions</p>\n",
       "        <div class='compression'>\n",
       "            Longueur originale : 36 mots | Résumé : 24 mots | Compression : 33.33%\n",
       "        </div>\n",
       "        <div class='compression'>Temps de génération : 2.25 secondes</div>\n",
       "    </div>\n",
       "    \n",
       "    <div class='result'>\n",
       "        <div class='header'>Affirmation 3 :</div>\n",
       "        <p>Philosophers like Nietzsche proclaimed the death of God, ushering in an era of human autonomy. Yet, with the rise of AI, humanity seems eager to hand over decision-making to algorithms. Have we found a new 'God' in artificial intelligence?</p>\n",
       "        <div class='header'>Résumé généré :</div>\n",
       "        <p>Philosophers like Nietzsche proclaimed the death of God. With the rise of AI, humanity seems eager to hand over decision-making to algorithms.</p>\n",
       "        <div class='compression'>\n",
       "            Longueur originale : 39 mots | Résumé : 22 mots | Compression : 43.59%\n",
       "        </div>\n",
       "        <div class='compression'>Temps de génération : 2.24 secondes</div>\n",
       "    </div>\n",
       "    \n",
       "    <div class='result'>\n",
       "        <div class='header'>Affirmation 4 :</div>\n",
       "        <p>Descartes’ declaration 'I think, therefore I am' defined existence by thought. But AI, despite its ability to process vast amounts of information, does not 'exist' in the Cartesian sense. It thinks, but does not feel. It acts, but does not desire.</p>\n",
       "        <div class='header'>Résumé généré :</div>\n",
       "        <p>AI does not 'exist' in the Cartesian sense. It thinks, but does not feel. It acts, but doesn't desire.</p>\n",
       "        <div class='compression'>\n",
       "            Longueur originale : 41 mots | Résumé : 19 mots | Compression : 53.66%\n",
       "        </div>\n",
       "        <div class='compression'>Temps de génération : 1.98 secondes</div>\n",
       "    </div>\n",
       "    \n",
       "    <div class='result'>\n",
       "        <div class='header'>Affirmation 5 :</div>\n",
       "        <p>AI is not just a tool; it is a mirror. Its biases, its decisions, its outcomes reflect the imperfections of its creators. As we teach machines, we must ask ourselves: are we imparting wisdom, or are we amplifying our own flaws?</p>\n",
       "        <div class='header'>Résumé généré :</div>\n",
       "        <p>AI is not just a tool, it's a mirror reflecting its creators' imperfections.</p>\n",
       "        <div class='compression'>\n",
       "            Longueur originale : 41 mots | Résumé : 13 mots | Compression : 68.29%\n",
       "        </div>\n",
       "        <div class='compression'>Temps de génération : 1.45 secondes</div>\n",
       "    </div>\n",
       "    "
      ],
      "text/plain": [
       "<IPython.core.display.HTML object>"
      ]
     },
     "metadata": {},
     "output_type": "display_data"
    }
   ],
   "source": [
    "\n",
    "target_compression = 50  # Compression cible en %\n",
    "html_output = \"\"\"\n",
    "<style>\n",
    "    .result { \n",
    "        font-family: Arial, sans-serif; \n",
    "        border: 1px solid #ccc; \n",
    "        padding: 10px; \n",
    "        margin-bottom: 15px; \n",
    "        border-radius: 5px;\n",
    "        background-color: #f9f9f9;\n",
    "    }\n",
    "    .header { \n",
    "        font-weight: bold; \n",
    "        color: #333; \n",
    "        margin-bottom: 10px; \n",
    "    }\n",
    "    .compression {\n",
    "        font-style: italic;\n",
    "        color: #555;\n",
    "    }\n",
    "</style>\n",
    "\"\"\"\n",
    "\n",
    "for i, affirmation in enumerate(affirmations, 1):\n",
    "    summary, compression, generation_time = generate_summary_with_compression(\n",
    "        model, tokenizer, affirmation, target_compression=target_compression\n",
    "    )\n",
    "    original_length = len(affirmation.split())\n",
    "    summary_length = len(summary.split())\n",
    "    \n",
    "    # Ajouter chaque résultat dans un format HTML\n",
    "    html_output += f\"\"\"\n",
    "    <div class='result'>\n",
    "        <div class='header'>Affirmation {i} :</div>\n",
    "        <p>{affirmation}</p>\n",
    "        <div class='header'>Résumé généré :</div>\n",
    "        <p>{summary}</p>\n",
    "        <div class='compression'>\n",
    "            Longueur originale : {original_length} mots | Résumé : {summary_length} mots | Compression : {compression:.2f}%\n",
    "        </div>\n",
    "        <div class='compression'>Temps de génération : {generation_time:.2f} secondes</div>\n",
    "    </div>\n",
    "    \"\"\"\n",
    "\n",
    "# Afficher le résultat en HTML\n",
    "display(HTML(html_output))\n"
   ]
  },
  {
   "cell_type": "code",
   "execution_count": 109,
   "metadata": {},
   "outputs": [],
   "source": [
    "def post_process_summary(summary, original_text):\n",
    "    \"\"\"\n",
    "    Post-process the summary to retain important elements like questions or conclusions.\n",
    "    \"\"\"\n",
    "    # Ajouter des phrases finales du texte original si elles contiennent une question ou une conclusion\n",
    "    if \"?\" in original_text and \"?\" not in summary:\n",
    "        summary += \" \" + extract_question(original_text)\n",
    "\n",
    "    return summary\n",
    "\n",
    "def extract_question(text):\n",
    "    \"\"\"\n",
    "    Extract the last question from the text, if any.\n",
    "    \"\"\"\n",
    "    sentences = text.split(\".\")\n",
    "    questions = [s.strip() + \"?\" for s in sentences if \"?\" in s]\n",
    "    return questions[-1] if questions else \"\""
   ]
  },
  {
   "cell_type": "code",
   "execution_count": 112,
   "metadata": {},
   "outputs": [],
   "source": [
    "def generate_summary_with_enhancements(model, tokenizer, text, target_compression=None, min_length=50, max_length=150, max_retries=5):\n",
    "    \"\"\"\n",
    "    Generate a summary with enhancements: compression flexibility and post-processing.\n",
    "    \n",
    "    Parameters:\n",
    "    - model: Modèle de génération.\n",
    "    - tokenizer: Tokenizer correspondant au modèle.\n",
    "    - text: Texte original à résumer.\n",
    "    - target_compression: Taux de compression cible (%). Si None, min_length est utilisé directement.\n",
    "    - min_length: Longueur minimale du résumé.\n",
    "    - max_length: Longueur maximale du résumé.\n",
    "    - max_retries: Nombre maximum de tentatives pour ajuster la longueur.\n",
    "    \n",
    "    Returns:\n",
    "    - summary: Résumé généré.\n",
    "    - compression: Taux de compression obtenu.\n",
    "    - generation_time: Temps de génération.\n",
    "    \"\"\"\n",
    "    original_length = len(text.split())\n",
    "    \n",
    "    # Ajuster min_length et max_length en fonction du taux de compression cible\n",
    "    if target_compression is not None:\n",
    "        min_length = int(original_length * (1 - target_compression / 100))\n",
    "        max_length = original_length\n",
    "\n",
    "    retries = 0\n",
    "    while retries < max_retries:\n",
    "        inputs = tokenizer(text, return_tensors=\"pt\", truncation=True, padding=\"longest\")\n",
    "        start_time = time.time()\n",
    "        \n",
    "        summary_ids = model.generate(\n",
    "            inputs[\"input_ids\"],\n",
    "            min_length=min_length,\n",
    "            max_length=max_length,\n",
    "            length_penalty=2.0,\n",
    "            num_beams=4,\n",
    "            early_stopping=True\n",
    "        )\n",
    "        end_time = time.time()\n",
    "        \n",
    "        summary = tokenizer.decode(summary_ids[0], skip_special_tokens=True)\n",
    "        summary_length = len(summary.split())\n",
    "        compression = (original_length - summary_length) / original_length * 100\n",
    "\n",
    "        \n",
    "        # Vérifier si le taux cible est atteint (si défini)\n",
    "        if target_compression is None or abs(compression - target_compression) <= 5:\n",
    "            return post_process_summary(summary, text), compression, end_time - start_time\n",
    "\n",
    "        # Ajuster les longueurs pour se rapprocher du taux cible\n",
    "        if compression < target_compression:  # Résumé trop long\n",
    "            min_length -= 1\n",
    "        else:  # Résumé trop court\n",
    "            max_length -= 1\n",
    "\n",
    "        retries += 1\n",
    "\n",
    "    # Retourner le meilleur résultat après les tentatives\n",
    "    return post_process_summary(summary, text), compression, end_time - start_time"
   ]
  },
  {
   "cell_type": "code",
   "execution_count": 114,
   "metadata": {},
   "outputs": [
    {
     "name": "stdout",
     "output_type": "stream",
     "text": [
      "\n",
      "Affirmation 1 : Alan Turing famously laid the foundations of artificial intelligence. Today, AI can replicate human behaviors, but it lacks the capacity to suffer, to hope, or to dream. Can we truly call it intelligent if it misses the essence of human experience?\n",
      "\n",
      "Résumé généré : Alan Turing laid the foundations of artificial intelligence. Today, AI can replicate human behaviors, but it lacks the capacity to suffer, to hope, or to dream. Can we truly call it intelligent if it misses the essence of human experience??\n",
      "Longueur originale : 41 mots | Résumé : 40 mots | Compression : 2.44%\n",
      "Temps de génération : 2.28 secondes\n",
      "================================================================================\n",
      "\n",
      "Affirmation 2 : Artificial intelligence has achieved the unimaginable: creating art, music, and even poetry. But every AI masterpiece is a mosaic of human ideas, values, and instructions. The machine creates, but the spark of inspiration remains deeply human.\n",
      "\n",
      "Résumé généré : Artificial intelligence has achieved the unimaginable, creating art, music, and even poetry. Every AI masterpiece is a mosaic of human ideas, values, and instructions\n",
      "Longueur originale : 36 mots | Résumé : 24 mots | Compression : 33.33%\n",
      "Temps de génération : 2.45 secondes\n",
      "================================================================================\n",
      "\n",
      "Affirmation 3 : Philosophers like Nietzsche proclaimed the death of God, ushering in an era of human autonomy. Yet, with the rise of AI, humanity seems eager to hand over decision-making to algorithms. Have we found a new 'God' in artificial intelligence?\n",
      "\n",
      "Résumé généré : Philosophers like Nietzsche proclaimed the death of God. With the rise of AI, humanity seems eager to hand over decision-making to algorithms. Have we found a new 'God' in artificial intelligence??\n",
      "Longueur originale : 39 mots | Résumé : 31 mots | Compression : 20.51%\n",
      "Temps de génération : 2.30 secondes\n",
      "================================================================================\n",
      "\n",
      "Affirmation 4 : Descartes’ declaration 'I think, therefore I am' defined existence by thought. But AI, despite its ability to process vast amounts of information, does not 'exist' in the Cartesian sense. It thinks, but does not feel. It acts, but does not desire.\n",
      "\n",
      "Résumé généré : AI does not 'exist' in the Cartesian sense. It thinks, but does not feel. It acts, but doesn't desire.\n",
      "Longueur originale : 41 mots | Résumé : 19 mots | Compression : 53.66%\n",
      "Temps de génération : 2.10 secondes\n",
      "================================================================================\n",
      "\n",
      "Affirmation 5 : AI is not just a tool; it is a mirror. Its biases, its decisions, its outcomes reflect the imperfections of its creators. As we teach machines, we must ask ourselves: are we imparting wisdom, or are we amplifying our own flaws?\n",
      "\n",
      "Résumé généré : AI is not just a tool, it's a mirror reflecting its creators' imperfections. As we teach machines, we must ask ourselves: are we imparting wisdom, or are we amplifying our own flaws??\n",
      "Longueur originale : 41 mots | Résumé : 32 mots | Compression : 21.95%\n",
      "Temps de génération : 1.44 secondes\n",
      "================================================================================\n"
     ]
    }
   ],
   "source": [
    "def calculate_compression(original_length, summary_length):\n",
    "    \"\"\"\n",
    "    Calculer le pourcentage de compression correctement.\n",
    "    \"\"\"\n",
    "    return (original_length - summary_length) / original_length * 100\n",
    "\n",
    "for i, affirmation in enumerate(affirmations, 1):\n",
    "    summary, compression, generation_time = generate_summary_with_enhancements(\n",
    "        model, tokenizer, affirmation, target_compression=50, min_length=50, max_length=150\n",
    "    )\n",
    "    original_length = len(affirmation.split())\n",
    "    summary_length = len(summary.split())\n",
    "    compression = calculate_compression(original_length, summary_length)  # Correction ici\n",
    "    \n",
    "    print(f\"\\nAffirmation {i} : {affirmation}\\n\")\n",
    "    print(f\"Résumé généré : {summary}\")\n",
    "    print(f\"Longueur originale : {original_length} mots | Résumé : {summary_length} mots | Compression : {compression:.2f}%\")\n",
    "    print(f\"Temps de génération : {generation_time:.2f} secondes\")\n",
    "    print(\"=\" * 80)\n"
   ]
  },
  {
   "cell_type": "code",
   "execution_count": null,
   "metadata": {},
   "outputs": [
    {
     "name": "stdout",
     "output_type": "stream",
     "text": [
      "\n",
      "--- Contenu original ---\n",
      "\n",
      "Critique of Technology (Industry)\n",
      "The critique of technology, particularly in the industrial age, spans across ideological divides. On the left, thinkers like Saint-Simon, Fourier, Godin, and Karl Marx emphasized the concept of proletariat, focusing on labor and industrial consequences. On the right, figures like Martin Heidegger (1889–1976) approached it from environmental perspectives, exploring the intersection of technology and nature.\n",
      "\n",
      "Ontology in this context is described as the \"science o...\n",
      "\n",
      "--- Résumé généré ---\n",
      "\n",
      "The critique of technology spans across ideological divides. Martin Heidegger's Being and Time (Sein und Zeit) is a seminal work on technology and intelligence. The term \"Artificial Intelligence\" (AI) invites multiple layers of reflection. The word \"intelligence\" has a rich history of meaning tied to understanding and action. In English, the term evolved to represent the flow and communication of information, as well as specific uses in espionage and general knowledge. It also retains its broader definition of general information or common understanding. In Christian Latin, the word expanded to describe spiritual being, ideas of agreement and closeness, and the semblable (the similar) which represents relationships between entities in a technological and existential framework. It had also taken on a specific connotation in espionage, representing secret information gathered by spies. It is both cognitive and a relational concept, emphasizing intelligence as both a cognitive and relational concept.\n",
      "\n",
      "Longueur originale : 357 mots | Longueur du résumé : 147 mots\n",
      "Compression : 58.82%\n",
      "Temps de génération : 16.53 secondes\n",
      "================================================================================\n"
     ]
    }
   ],
   "source": [
    "import os\n",
    "\n",
    "# Fonction pour lire un fichier texte\n",
    "def read_text_file(file_path):\n",
    "    \"\"\"\n",
    "    Lire le contenu d'un fichier texte.\n",
    "    \"\"\"\n",
    "    if os.path.exists(file_path):\n",
    "        with open(file_path, \"r\", encoding=\"utf-8\") as file:\n",
    "            content = file.read()\n",
    "        return content\n",
    "    else:\n",
    "        raise FileNotFoundError(f\"Le fichier {file_path} est introuvable.\")\n",
    "\n",
    "# Fonction pour calculer la compression\n",
    "def calculate_compression(original_length, summary_length):\n",
    "    \"\"\"\n",
    "    Calculer le pourcentage de compression.\n",
    "    \"\"\"\n",
    "    return (original_length - summary_length) / original_length * 100\n",
    "\n",
    "# Résumer un fichier texte avec affichage détaillé\n",
    "def summarize_text_file_with_display(file_path, model, tokenizer, target_compression=50, min_length=50, max_length=150):\n",
    "    \"\"\"\n",
    "    Lire et résumer un fichier texte, puis afficher les résultats.\n",
    "    \"\"\"\n",
    "    try:\n",
    "        # Lire le texte original\n",
    "        original_text = read_text_file(file_path)\n",
    "        original_length = len(original_text.split())\n",
    "        \n",
    "        # Générer le résumé\n",
    "        summary, compression, generation_time = generate_summary_with_enhancements(\n",
    "            model, tokenizer, original_text, target_compression=target_compression, min_length=min_length, max_length=max_length\n",
    "        )\n",
    "        summary_length = len(summary.split())\n",
    "        compression = calculate_compression(original_length, summary_length)\n",
    "        \n",
    "        # Affichage des résultats\n",
    "        print(\"\\n--- Contenu original ---\\n\")\n",
    "        print(original_text[:500] + \"...\")  # Afficher seulement les 500 premiers caractères\n",
    "        print(\"\\n--- Résumé généré ---\\n\")\n",
    "        print(summary)\n",
    "        print(f\"\\nLongueur originale : {original_length} mots | Longueur du résumé : {summary_length} mots\")\n",
    "        print(f\"Compression : {compression:.2f}%\")\n",
    "        print(f\"Temps de génération : {generation_time:.2f} secondes\")\n",
    "        print(\"=\" * 80)\n",
    "    except FileNotFoundError as e:\n",
    "        print(str(e))\n",
    "\n",
    "file_path = r\"C:\\Users\\calar\\OneDrive\\Bureau\\Mapture\\backend\\notebooks\\comm_lesson1.txt\"\n",
    "\n",
    "summarize_text_file_with_display(\n",
    "    file_path, model, tokenizer, target_compression=50, min_length=50, max_length=150\n",
    ")\n"
   ]
  },
  {
   "cell_type": "code",
   "execution_count": null,
   "metadata": {},
   "outputs": [
    {
     "name": "stdout",
     "output_type": "stream",
     "text": [
      " * Serving Flask app '__main__'\n",
      " * Debug mode: on\n"
     ]
    },
    {
     "name": "stderr",
     "output_type": "stream",
     "text": [
      "INFO:werkzeug:\u001b[31m\u001b[1mWARNING: This is a development server. Do not use it in a production deployment. Use a production WSGI server instead.\u001b[0m\n",
      " * Running on all addresses (0.0.0.0)\n",
      " * Running on http://127.0.0.1:5000\n",
      " * Running on http://192.168.1.87:5000\n",
      "INFO:werkzeug:\u001b[33mPress CTRL+C to quit\u001b[0m\n",
      "INFO:werkzeug: * Restarting with watchdog (windowsapi)\n"
     ]
    },
    {
     "ename": "SystemExit",
     "evalue": "1",
     "output_type": "error",
     "traceback": [
      "An exception has occurred, use %tb to see the full traceback.\n",
      "\u001b[1;31mSystemExit\u001b[0m\u001b[1;31m:\u001b[0m 1\n"
     ]
    }
   ],
   "source": [
    "from flask import Flask, request, jsonify\n",
    "from werkzeug.utils import secure_filename\n",
    "import os\n",
    "import docx  # Pour les fichiers .docx\n",
    "import time  # Pour mesurer le temps de génération\n",
    "from transformers import AutoTokenizer, AutoModelForSeq2SeqLM\n",
    "from flask_cors import CORS\n",
    "\n",
    "\n",
    "app = Flask(__name__)\n",
    "CORS(app, resources={r\"/*\": {\"origins\": [\"http://localhost:3000\", \"http://192.168.x.x\"]}})\n",
    "\n",
    "\n",
    "UPLOAD_FOLDER = './uploads'\n",
    "os.makedirs(UPLOAD_FOLDER, exist_ok=True)\n",
    "app.config['UPLOAD_FOLDER'] = UPLOAD_FOLDER\n",
    "\n",
    "# Charger le modèle et le tokenizer\n",
    "model_name = \"philschmid/bart-large-cnn-samsum\"\n",
    "tokenizer = AutoTokenizer.from_pretrained(model_name)\n",
    "model = AutoModelForSeq2SeqLM.from_pretrained(model_name)\n",
    "\n",
    "# Fonction pour vérifier les extensions autorisées\n",
    "def allowed_file(filename):\n",
    "    return '.' in filename and filename.rsplit('.', 1)[1].lower() in {'txt', 'docx'}\n",
    "\n",
    "# Fonction pour traiter les fichiers .txt\n",
    "def process_txt_file(file_path):\n",
    "    with open(file_path, 'r', encoding='utf-8') as file:\n",
    "        return file.read()\n",
    "\n",
    "# Fonction pour traiter les fichiers .docx\n",
    "def process_docx_file(file_path):\n",
    "    doc = docx.Document(file_path)\n",
    "    return '\\n'.join([p.text for p in doc.paragraphs])\n",
    "\n",
    "# Fonction pour calculer la compression\n",
    "def calculate_compression(original_length, summary_length):\n",
    "    return (original_length - summary_length) / original_length * 100\n",
    "\n",
    "# Fonction pour générer un résumé\n",
    "def generate_summary_with_enhancements(model, tokenizer, text, target_compression=None, min_length=50, max_length=150, max_retries=5):\n",
    "    original_length = len(text.split())\n",
    "    \n",
    "    if target_compression is not None:\n",
    "        min_length = int(original_length * (1 - target_compression / 100))\n",
    "        max_length = original_length\n",
    "\n",
    "    retries = 0\n",
    "    while retries < max_retries:\n",
    "        inputs = tokenizer(text, return_tensors=\"pt\", truncation=True, padding=\"longest\")\n",
    "        start_time = time.time()\n",
    "        \n",
    "        summary_ids = model.generate(\n",
    "            inputs[\"input_ids\"],\n",
    "            min_length=min_length,\n",
    "            max_length=max_length,\n",
    "            length_penalty=2.0,\n",
    "            num_beams=4,\n",
    "            early_stopping=True\n",
    "        )\n",
    "        end_time = time.time()\n",
    "        \n",
    "        summary = tokenizer.decode(summary_ids[0], skip_special_tokens=True)\n",
    "        summary_length = len(summary.split())\n",
    "        compression = calculate_compression(original_length, summary_length)\n",
    "\n",
    "        if target_compression is None or abs(compression - target_compression) <= 5:\n",
    "            return summary, compression, end_time - start_time\n",
    "\n",
    "        if compression < target_compression:\n",
    "            min_length -= 1\n",
    "        else:\n",
    "            max_length -= 1\n",
    "\n",
    "        retries += 1\n",
    "\n",
    "    return summary, compression, end_time - start_time\n",
    "\n",
    "# Route pour uploader un fichier et générer un résumé\n",
    "@app.route('/upload', methods=['POST'])\n",
    "def upload_file():\n",
    "    if 'file' not in request.files:\n",
    "        return jsonify({\"error\": \"No file part in the request\"}), 400\n",
    "\n",
    "    file = request.files['file']\n",
    "\n",
    "    if file.filename == '':\n",
    "        return jsonify({\"error\": \"No file selected\"}), 400\n",
    "\n",
    "    if file and allowed_file(file.filename):\n",
    "        filename = secure_filename(file.filename)\n",
    "        file_path = os.path.join(app.config['UPLOAD_FOLDER'], filename)\n",
    "        file.save(file_path)\n",
    "\n",
    "        # Traiter le contenu du fichier\n",
    "        if file.filename.endswith('.txt'):\n",
    "            content = process_txt_file(file_path)\n",
    "        elif file.filename.endswith('.docx'):\n",
    "            content = process_docx_file(file_path)\n",
    "        else:\n",
    "            return jsonify({\"error\": \"Unsupported file format\"}), 400\n",
    "\n",
    "        # Générer le résumé\n",
    "        summary, compression, generation_time = generate_summary_with_enhancements(\n",
    "            model, tokenizer, content, target_compression=50, min_length=50, max_length=150\n",
    "        )\n",
    "        \n",
    "        # Retourner le résumé et les statistiques\n",
    "        return jsonify({\n",
    "            \"original_text\": content[:500] + \"...\",  # Limiter à 500 caractères pour l'aperçu\n",
    "            \"summary\": summary,\n",
    "            \"original_length\": len(content.split()),\n",
    "            \"summary_length\": len(summary.split()),\n",
    "            \"compression\": f\"{compression:.2f}%\",\n",
    "            \"generation_time\": f\"{generation_time:.2f} seconds\"\n",
    "        }), 200\n",
    "    else:\n",
    "        return jsonify({\"error\": \"Invalid file type\"}), 400\n",
    "\n",
    "if __name__ == '__main__':\n",
    "    app.run(host='0.0.0.0', port=5000, debug=True)\n",
    "\n"
   ]
  },
  {
   "cell_type": "code",
   "execution_count": null,
   "metadata": {},
   "outputs": [],
   "source": []
  }
 ],
 "metadata": {
  "kernelspec": {
   "display_name": "base",
   "language": "python",
   "name": "python3"
  },
  "language_info": {
   "codemirror_mode": {
    "name": "ipython",
    "version": 3
   },
   "file_extension": ".py",
   "mimetype": "text/x-python",
   "name": "python",
   "nbconvert_exporter": "python",
   "pygments_lexer": "ipython3",
   "version": "3.11.3"
  }
 },
 "nbformat": 4,
 "nbformat_minor": 2
}
